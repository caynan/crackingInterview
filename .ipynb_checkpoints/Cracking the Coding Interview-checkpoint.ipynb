{
 "cells": [
  {
   "cell_type": "markdown",
   "metadata": {},
   "source": [
    "# Cracking the Coding Interview"
   ]
  },
  {
   "cell_type": "markdown",
   "metadata": {},
   "source": [
    "## Chapters:\n",
    "**Chapter 1:** "
   ]
  },
  {
   "cell_type": "code",
   "execution_count": 44,
   "metadata": {
    "collapsed": false
   },
   "outputs": [],
   "source": [
    "def is_all_unique(string, useDS = True) -> bool:\n",
    "    \"\"\"\n",
    "        1.1 - Implement an algorithm to determine if\n",
    "        a string has all unique characters. What if\n",
    "        you cannot use any additional Data Structure.\n",
    "    \"\"\"\n",
    "    if (useDS):\n",
    "        isUnique = (len(string) == len(set(string)))\n",
    "    else:\n",
    "        isUnique = True\n",
    "        sortedString = sorted(string)\n",
    "        for i, val in enumerate(sortedString):\n",
    "            if i == len(sortedString) - 1: break\n",
    "            if sortedString[i] == sortedString[i+1]:\n",
    "                isUnique = False\n",
    "                break\n",
    "    return isUnique\n",
    "\n",
    "def isPermutation(string1, string2) -> bool:\n",
    "    \"\"\"\n",
    "        1.3 - Given two strings, write a method to decide\n",
    "        if one is a permutation of the other.\n",
    "    \"\"\"\n",
    "    return len(string1) == len(string2) \\\n",
    "        and set(string1) == set(string2)\n",
    "    \n",
    "def replace_spaces(string) -> str:\n",
    "    \"\"\"\n",
    "        1.4 - Write a method to replace all spaces in a string\n",
    "        with '%20'.\n",
    "    \"\"\"\n",
    "    return string.strip().replace(\" \", \"%20\")\n",
    "\n",
    "\n",
    "\n",
    "# RUN 'EM ALL expect the silence of a ninja\n",
    "\n",
    "# 1.1 Asserts\n",
    "assert is_all_unique(\"a\") is True\n",
    "assert is_all_unique(\"aa\") is False\n",
    "assert is_all_unique(\"abcdd\") is False\n",
    "assert is_all_unique(\"I'm a freaking Ninja\") is False\n",
    "assert is_all_unique(\"abcde124\") is True\n",
    "assert is_all_unique(\"a\", useDS=False) is True\n",
    "assert is_all_unique(\"aa\", useDS=False) is False\n",
    "assert is_all_unique(\"abcdd\", useDS=False) is False\n",
    "assert is_all_unique(\"I'm a freaking Ninja\", useDS=False) is False\n",
    "assert is_all_unique(\"abcde124\", useDS=False) is True\n",
    "\n",
    "# 1.3 Asserts\n",
    "assert isPermutation(\"a\", \"a\") is True\n",
    "assert isPermutation(\"roma\", \"amor\") is True\n",
    "assert isPermutation(\"not\", \"permuted\") is False\n",
    "assert isPermutation(\"caca\", \"cac\") is False\n",
    "assert isPermutation(\"aaa\", \"aaaa\") is False\n",
    "\n",
    "# 1.4 Asserts\n",
    "assert replace_spaces(\"Mr John Smith\") == \"Mr%20John%20Smith\"\n",
    "assert replace_spaces(\"Mr John Smith   \") == \"Mr%20John%20Smith\"\n",
    "assert replace_spaces(\"   Mr John Smith\") == \"Mr%20John%20Smith\"\n",
    "assert replace_spaces(\"    Mr John Smith    \") == \"Mr%20John%20Smith\"\n",
    "\n",
    "# 1.5 Asserts"
   ]
  },
  {
   "cell_type": "markdown",
   "metadata": {},
   "source": [
    "**Chapter 2:**"
   ]
  },
  {
   "cell_type": "code",
   "execution_count": 10,
   "metadata": {
    "collapsed": false
   },
   "outputs": [],
   "source": [
    "from random import randint\n",
    "\n",
    "\n",
    "class Node:\n",
    "    def __init__(self, data=None, next_node=None):\n",
    "        self.data = data\n",
    "        self.next_node = next_node\n",
    "    \n",
    "    def isNil(self):\n",
    "        return self.data is None\n",
    "    \n",
    "    def append_to_tail(self, data):\n",
    "        # Case when LinkedList is empty\n",
    "        if self.data is None:\n",
    "            self.data = data\n",
    "        else:\n",
    "            newNode = Node(data)\n",
    "            current_node = self\n",
    "            while current_node.next_node is not None:\n",
    "                current_node = current_node.next_node\n",
    "            current_node.next_node = newNode\n",
    "    \n",
    "    def delete_node(self, data):\n",
    "        for node in self:\n",
    "            if node.next_node is None:\n",
    "                return False\n",
    "            if node.next_node.data == data:\n",
    "                node.next_node = node.next_node.next_node\n",
    "                return True\n",
    "    \n",
    "    def __iter__(self):\n",
    "        self.current_node = self\n",
    "        return self\n",
    "    \n",
    "    def __next__(self):\n",
    "        if self.current_node is None or self.current_node.data is None:\n",
    "            raise StopIteration\n",
    "        else:\n",
    "            res = self.current_node\n",
    "            self.current_node = self.current_node.next_node\n",
    "            return res\n",
    "    \n",
    "    def __repr__(self):\n",
    "        return ' -> '.join([str(x.data) for x in self])\n",
    "\n",
    "    def __str__(self):\n",
    "        return self.__repr__()\n",
    "\n",
    "    def __eq__(self, other):\n",
    "        if type(other) is type(self):\n",
    "            return self.__dict__ == other.__dict__\n",
    "        return False\n",
    "    \n",
    "    def __ne__(self,other):\n",
    "        return not self.__eq__(other)\n",
    "\n",
    "\n",
    "# Helper function to create random LinkedLists\n",
    "def generate_linked_list(length, random=False, min=0, max=100):\n",
    "    linked_list = Node()\n",
    "    for i in range(length):\n",
    "        if random:\n",
    "            linked_list.append_to_tail(randint(min, max))\n",
    "        else:\n",
    "            linked_list.append_to_tail(i)\n",
    "    return linked_list\n",
    "    \n",
    "    \n",
    "# RUN 'EM ALL expect the silence of a ninja\n",
    "linked_list = generate_linked_list(10)\n",
    "\n",
    "assert Node().isNil() is True\n",
    "assert Node(1) == Node(1)\n",
    "assert linked_list == linked_list\n",
    "assert str(Node(1)) == \"1\"\n",
    "assert str(Node(1, Node(2, Node(3)))) == \"1 -> 2 -> 3\"\n",
    "assert str(linked_list) == \"0 -> 1 -> 2 -> 3 -> 4 -> 5 -> 6 -> 7 -> 8 -> 9\"\n",
    "\n",
    "assert linked_list.delete_node(8) is True\n",
    "assert str(linked_list) == \"0 -> 1 -> 2 -> 3 -> 4 -> 5 -> 6 -> 7 -> 9\"\n",
    "\n",
    "assert linked_list.delete_node(9) is True\n",
    "assert str(linked_list) == \"0 -> 1 -> 2 -> 3 -> 4 -> 5 -> 6 -> 7\"\n",
    "\n",
    "assert linked_list.delete_node(9) is False\n",
    "assert str(linked_list) == \"0 -> 1 -> 2 -> 3 -> 4 -> 5 -> 6 -> 7\""
   ]
  },
  {
   "cell_type": "code",
   "execution_count": 26,
   "metadata": {
    "collapsed": false
   },
   "outputs": [
    {
     "name": "stdout",
     "output_type": "stream",
     "text": [
      "8\n"
     ]
    },
    {
     "data": {
      "text/plain": [
       "10"
      ]
     },
     "execution_count": 26,
     "metadata": {},
     "output_type": "execute_result"
    }
   ],
   "source": [
    "def nth_to_last(head, n) -> Node:\n",
    "    pointer1 = pointer2 = head\n",
    "    # make pointer2 n elements ahead of pointer1\n",
    "    for i in range(n):\n",
    "        pointer2 = pointer2.next_node\n",
    "        if pointer2 is None:\n",
    "            return \"n > len(linked_list)\"\n",
    "    # when pointer2 reaches the end, pointer1 will be in len - n\n",
    "    while pointer2.next_node is not None:\n",
    "        pointer1 = pointer1.next_node\n",
    "        pointer2 = pointer2.next_node\n",
    "    # return pointer1 element\n",
    "    return pointer1\n",
    "\n",
    "linked_list = generate_linked_list(10)\n",
    "assert nth_to_last(linked_list, 0) == Node(9)\n",
    "assert str(nth_to_last(linked_list, 2)) == \"7 -> 8 -> 9\""
   ]
  },
  {
   "cell_type": "markdown",
   "metadata": {},
   "source": [
    "**Chapter 3:**"
   ]
  },
  {
   "cell_type": "code",
   "execution_count": null,
   "metadata": {
    "collapsed": false
   },
   "outputs": [],
   "source": []
  },
  {
   "cell_type": "markdown",
   "metadata": {
    "collapsed": false
   },
   "source": [
    "**Chapter 4:**"
   ]
  },
  {
   "cell_type": "code",
   "execution_count": null,
   "metadata": {
    "collapsed": true
   },
   "outputs": [],
   "source": []
  },
  {
   "cell_type": "code",
   "execution_count": 13,
   "metadata": {
    "collapsed": false
   },
   "outputs": [
    {
     "name": "stdout",
     "output_type": "stream",
     "text": [
      "1\n",
      "1\n"
     ]
    }
   ],
   "source": [
    "a = b = 1\n",
    "print (a)\n",
    "print (b)"
   ]
  },
  {
   "cell_type": "code",
   "execution_count": null,
   "metadata": {
    "collapsed": true
   },
   "outputs": [],
   "source": []
  }
 ],
 "metadata": {
  "kernelspec": {
   "display_name": "Python 3",
   "language": "python",
   "name": "python3"
  },
  "language_info": {
   "codemirror_mode": {
    "name": "ipython",
    "version": 3
   },
   "file_extension": ".py",
   "mimetype": "text/x-python",
   "name": "python",
   "nbconvert_exporter": "python",
   "pygments_lexer": "ipython3",
   "version": "3.5.1"
  }
 },
 "nbformat": 4,
 "nbformat_minor": 0
}
